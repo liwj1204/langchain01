{
 "cells": [
  {
   "cell_type": "code",
   "execution_count": 1,
   "id": "3a699e45-c4ea-460a-8dec-1ab973b5daf7",
   "metadata": {},
   "outputs": [],
   "source": [
    "# 导入相关模块，包括运算符、输出解析器、聊天模板、ChatOpenAI 和 运行器\n",
    "from operator import itemgetter\n",
    "from langchain_core.output_parsers import StrOutputParser\n",
    "from langchain_core.prompts import ChatPromptTemplate\n",
    "from langchain_openai import ChatOpenAI\n",
    "from langchain_core.runnables import RunnablePassthrough\n",
    "\n",
    "\n",
    "\n",
    "# 创建正面论证的处理链，列出关于基础回应的正面或有利的方面\n",
    "java_src = (\n",
    "    ChatPromptTemplate.from_template(\n",
    "        \"生成关于{input}的java源码\"\n",
    "    )\n",
    "    | ChatOpenAI(model=\"gpt-4o-mini\")\n",
    "    | StrOutputParser()\n",
    ")\n",
    "\n",
    "# 创建反面论证的处理链，列出关于基础回应的反面或不利的方面\n",
    "python_src = (\n",
    "    ChatPromptTemplate.from_template(\n",
    "        \"生成列出关于{input}的python源码\"\n",
    "    )\n",
    "    | ChatOpenAI(model=\"gpt-4o-mini\")\n",
    "    | StrOutputParser()\n",
    ")\n",
    "\n",
    "\n",
    "\n",
    "# 构建完整的处理链，从生成论点到列出正反论点，再到生成最终回应\n",
    "chain = (\n",
    "    RunnablePassthrough()\n",
    "    | {\n",
    "        \"results_1\": java_src,\n",
    "        \"results_2\": python_src,\n",
    "    }\n",
    "    \n",
    ")"
   ]
  },
  {
   "cell_type": "code",
   "execution_count": 2,
   "id": "21340302-7a49-48af-a4a5-b516cb5596e0",
   "metadata": {},
   "outputs": [
    {
     "name": "stdout",
     "output_type": "stream",
     "text": [
      "{'results_1': '快速排序（Quick Sort）是一种高效的排序算法，采用分治法策略。下面是一个简单的 Java 实现示例：\\n\\n```java\\npublic class QuickSort {\\n\\n    // 主方法\\n    public static void main(String[] args) {\\n        int[] array = {10, 7, 8, 9, 1, 5};\\n        System.out.println(\"原始数组:\");\\n        printArray(array);\\n        \\n        quickSort(array, 0, array.length - 1);\\n        \\n        System.out.println(\"排序后的数组:\");\\n        printArray(array);\\n    }\\n\\n    // 快速排序方法\\n    public static void quickSort(int[] array, int low, int high) {\\n        if (low < high) {\\n            // 找到分区点\\n            int partitionIndex = partition(array, low, high);\\n            \\n            // 递归排序分区\\n            quickSort(array, low, partitionIndex - 1);\\n            quickSort(array, partitionIndex + 1, high);\\n        }\\n    }\\n\\n    // 分区方法\\n    private static int partition(int[] array, int low, int high) {\\n        // 选择最后一个元素作为基准\\n        int pivot = array[high];\\n        int i = (low - 1); // 指向比基准小的元素的最后一个索引\\n\\n        for (int j = low; j < high; j++) {\\n            // 如果当前元素小于或等于基准\\n            if (array[j] <= pivot) {\\n                i++;\\n                // 交换 array[i] 和 array[j]\\n                swap(array, i, j);\\n            }\\n        }\\n\\n        // 交换 array[i + 1] 和 array[high] (或基准)\\n        swap(array, i + 1, high);\\n        return i + 1; // 返回基准的索引\\n    }\\n\\n    // 交换两个元素的方法\\n    private static void swap(int[] array, int i, int j) {\\n        int temp = array[i];\\n        array[i] = array[j];\\n        array[j] = temp;\\n    }\\n\\n    // 打印数组的方法\\n    private static void printArray(int[] array) {\\n        for (int value : array) {\\n            System.out.print(value + \" \");\\n        }\\n        System.out.println();\\n    }\\n}\\n```\\n\\n### 代码说明：\\n1. **main 方法**：程序的入口，定义了一个整数数组并调用 `quickSort` 方法进行排序。\\n2. **quickSort 方法**：实现快速排序的核心逻辑，使用递归对数组进行排序。\\n3. **partition 方法**：执行分区操作，选择一个基准元素，并将小于等于基准的元素放在左边，大于基准的元素放在右边。\\n4. **swap 方法**：用于交换数组中两个元素的位置。\\n5. **printArray 方法**：用于打印数组的内容。\\n\\n你可以将以上代码复制到你的 Java 开发环境中进行运行和测试。', 'results_2': '快速排序（Quick Sort）是一种高效的排序算法，采用分治法（Divide and Conquer）策略来对数据进行排序。下面是一个用 Python 实现的快速排序的示例代码：\\n\\n```python\\ndef quick_sort(arr):\\n    if len(arr) <= 1:\\n        return arr\\n    else:\\n        pivot = arr[len(arr) // 2]  # 选择中间的元素作为基准\\n        left = [x for x in arr if x < pivot]  # 小于基准的元素\\n        middle = [x for x in arr if x == pivot]  # 等于基准的元素\\n        right = [x for x in arr if x > pivot]  # 大于基准的元素\\n        return quick_sort(left) + middle + quick_sort(right)  # 递归排序并合并\\n\\n# 示例使用\\nif __name__ == \"__main__\":\\n    data = [3, 6, 8, 10, 1, 2, 1]\\n    sorted_data = quick_sort(data)\\n    print(\"排序后的数组:\", sorted_data)\\n```\\n\\n### 代码解释：\\n1. **基准选择**：选择数组中间的元素作为基准（pivot）。\\n2. **分区**：\\n   - 创建三个列表：`left` 存储小于基准的元素，`middle` 存储等于基准的元素，`right` 存储大于基准的元素。\\n3. **递归**：对 `left` 和 `right` 列表递归调用 `quick_sort`，然后将结果合并。\\n4. **终止条件**：当列表长度小于等于 1 时，直接返回该列表，因为它已经是排序好的。\\n\\n你可以运行这段代码，并可以修改 `data` 列表来测试不同的输入。'}\n"
     ]
    }
   ],
   "source": [
    "print(chain.invoke({\"input\": \"快速排序\"}))"
   ]
  },
  {
   "cell_type": "code",
   "execution_count": 5,
   "id": "66c04468",
   "metadata": {},
   "outputs": [
    {
     "name": "stdout",
     "output_type": "stream",
     "text": [
      "-----------------------------------\n",
      "快速排序是一种高效的排序算法，它采用分治法的策略。以下是一个简单的 Java 实现的快速排序算法示例：\n",
      "\n",
      "```java\n",
      "public class QuickSort {\n",
      "\n",
      "    // 主方法\n",
      "    public static void main(String[] args) {\n",
      "        int[] array = {10, 7, 8, 9, 1, 5};\n",
      "        System.out.println(\"原始数组：\");\n",
      "        printArray(array);\n",
      "        \n",
      "        quickSort(array, 0, array.length - 1);\n",
      "        \n",
      "        System.out.println(\"排序后的数组：\");\n",
      "        printArray(array);\n",
      "    }\n",
      "\n",
      "    // 快速排序方法\n",
      "    public static void quickSort(int[] array, int low, int high) {\n",
      "        if (low < high) {\n",
      "            // 找到划分点\n",
      "            int pivotIndex = partition(array, low, high);\n",
      "            // 递归排序划分点两侧的子数组\n",
      "            quickSort(array, low, pivotIndex - 1);\n",
      "            quickSort(array, pivotIndex + 1, high);\n",
      "        }\n",
      "    }\n",
      "\n",
      "    // 划分方法\n",
      "    public static int partition(int[] array, int low, int high) {\n",
      "        // 选择最后一个元素作为基准\n",
      "        int pivot = array[high];\n",
      "        int i = (low - 1); // 所有小于基准的元素的索引\n",
      "\n",
      "        for (int j = low; j < high; j++) {\n",
      "            // 如果当前元素小于或等于基准\n",
      "            if (array[j] <= pivot) {\n",
      "                i++;\n",
      "                // 交换 array[i] 和 array[j]\n",
      "                swap(array, i, j);\n",
      "            }\n",
      "        }\n",
      "        // 交换 array[i + 1] 和 array[high] (或基准)\n",
      "        swap(array, i + 1, high);\n",
      "        return i + 1; // 返回基准的索引\n",
      "    }\n",
      "\n",
      "    // 交换数组中的两个元素\n",
      "    public static void swap(int[] array, int i, int j) {\n",
      "        int temp = array[i];\n",
      "        array[i] = array[j];\n",
      "        array[j] = temp;\n",
      "    }\n",
      "\n",
      "    // 打印数组\n",
      "    public static void printArray(int[] array) {\n",
      "        for (int value : array) {\n",
      "            System.out.print(value + \" \");\n",
      "        }\n",
      "        System.out.println();\n",
      "    }\n",
      "}\n",
      "```\n",
      "\n",
      "### 代码说明：\n",
      "1. **主方法**：创建一个整数数组并调用 `quickSort` 方法进行排序。\n",
      "2. **quickSort 方法**：实现快速排序的递归逻辑。\n",
      "3. **partition 方法**：选择一个基准元素，将数组分成两部分：左边是小于或等于基准的元素，右边是大于基准的元素，并返回基准的最终位置。\n",
      "4. **swap 方法**：用于交换数组中的两个元素。\n",
      "5. **printArray 方法**：用于打印数组。\n",
      "\n",
      "### 使用说明：\n",
      "你可以将上述代码复制到一个 Java 文件中（比如 `QuickSort.java`），然后编译并运行它。运行后，你将看到原始数组和排序后的数组。\n",
      "-----------------------------------\n",
      "当然！下面是一个简单的快速排序（Quick Sort）算法的 Python 实现：\n",
      "\n",
      "```python\n",
      "def quick_sort(arr):\n",
      "    if len(arr) <= 1:\n",
      "        return arr\n",
      "    else:\n",
      "        pivot = arr[len(arr) // 2]  # 选择中间的元素作为基准\n",
      "        left = [x for x in arr if x < pivot]  # 所有小于基准的元素\n",
      "        middle = [x for x in arr if x == pivot]  # 所有等于基准的元素\n",
      "        right = [x for x in arr if x > pivot]  # 所有大于基准的元素\n",
      "        return quick_sort(left) + middle + quick_sort(right)  # 递归排序并合并结果\n",
      "\n",
      "# 示例用法\n",
      "if __name__ == \"__main__\":\n",
      "    sample_array = [3, 6, 8, 10, 1, 2, 1]\n",
      "    sorted_array = quick_sort(sample_array)\n",
      "    print(\"Sorted array:\", sorted_array)\n",
      "```\n",
      "\n",
      "### 代码解释：\n",
      "\n",
      "1. **基本情况**：如果数组的长度小于或等于1，直接返回该数组，因为它已经是有序的。\n",
      "2. **选择基准**：选择数组中间的元素作为基准（pivot）。\n",
      "3. **分区**：\n",
      "   - 使用列表推导式将数组分为三个部分：\n",
      "     - `left`：所有小于基准的元素。\n",
      "     - `middle`：所有等于基准的元素。\n",
      "     - `right`：所有大于基准的元素。\n",
      "4. **递归调用**：分别对 `left` 和 `right` 进行快速排序，并将它们与 `middle` 合并返回。\n",
      "\n",
      "### 示例输出：\n",
      "当运行上面的代码时，会输出：\n",
      "```\n",
      "Sorted array: [1, 1, 2, 3, 6, 8, 10]\n",
      "```\n",
      "\n",
      "你可以根据需要修改 `sample_array` 以测试其他输入！\n"
     ]
    }
   ],
   "source": [
    "\n",
    "print(\"-----------------------------------\")\n",
    "result = chain.invoke({\"input\": \"快速排序\"})\n",
    "print(result[\"results_1\"])\n",
    "print(\"-----------------------------------\")\n",
    "print(result[\"results_2\"])"
   ]
  },
  {
   "cell_type": "markdown",
   "id": "6a9aabaf-2ce7-4ce2-ad44-f11b0dfe0f4b",
   "metadata": {},
   "source": [
    "#### 流式输出"
   ]
  },
  {
   "cell_type": "code",
   "execution_count": 3,
   "id": "58380571-fa69-426e-95a8-d17ebd61d147",
   "metadata": {},
   "outputs": [
    {
     "name": "stdout",
     "output_type": "stream",
     "text": [
      "{'results_1': ''}{'results_1': '下面'}{'results_1': '是'}{'results_1': '一个'}{'results_1': '简单'}{'results_1': '的'}{'results_1': '快速'}{'results_1': '排序'}{'results_1': '（'}{'results_1': 'Quick'}{'results_1': ' Sort'}{'results_1': '）'}{'results_1': '算法'}{'results_1': '的'}{'results_1': 'Java'}{'results_1': '实现'}{'results_1': '。'}{'results_1': '快速'}{'results_1': '排序'}{'results_1': '是一'}{'results_1': '种'}{'results_1': '高'}{'results_1': '效'}{'results_1': '的'}{'results_1': '排序'}{'results_1': '算法'}{'results_1': '，'}{'results_1': '采用'}{'results_1': '分'}{'results_1': '治'}{'results_1': '法'}{'results_1': '策略'}{'results_1': '，'}{'results_2': ''}{'results_2': '快速'}{'results_2': '排序'}{'results_2': '（'}{'results_2': 'Quick'}{'results_2': ' Sort'}{'results_2': '）'}{'results_2': '是一'}{'results_2': '种'}{'results_2': '高'}{'results_1': '平均'}{'results_1': '时间'}{'results_1': '复杂'}{'results_1': '度'}{'results_1': '为'}{'results_1': 'O'}{'results_1': '(n'}{'results_1': ' log'}{'results_1': ' n'}{'results_1': ')。\\n\\n'}{'results_1': '```'}{'results_1': 'java'}{'results_1': '\\n'}{'results_2': '效'}{'results_1': 'public'}{'results_2': '的'}{'results_2': '排序'}{'results_2': '算法'}{'results_2': '，它'}{'results_2': '采用'}{'results_2': '分'}{'results_2': '治'}{'results_2': '法'}{'results_2': '（'}{'results_2': 'Divide'}{'results_2': ' and'}{'results_2': ' Con'}{'results_2': 'quer'}{'results_2': '）的'}{'results_2': '策略'}{'results_1': ' class'}{'results_2': '来'}{'results_1': ' Quick'}{'results_1': 'Sort'}{'results_1': ' {\\n\\n'}{'results_1': '   '}{'results_1': ' public'}{'results_2': '将'}{'results_2': '数据'}{'results_2': '分'}{'results_1': ' static'}{'results_2': '成'}{'results_1': ' void'}{'results_2': '较'}{'results_2': '小'}{'results_1': ' quick'}{'results_1': 'Sort'}{'results_2': '的'}{'results_2': '部分'}{'results_2': '进行'}{'results_2': '排序'}{'results_2': '。'}{'results_2': '以下'}{'results_1': '(int'}{'results_1': '[]'}{'results_2': '是'}{'results_2': '快速'}{'results_1': ' array'}{'results_1': ','}{'results_1': ' int'}{'results_1': ' low'}{'results_1': ','}{'results_1': ' int'}{'results_1': ' high'}{'results_1': ')'}{'results_1': ' {\\n'}{'results_1': '       '}{'results_1': ' if'}{'results_1': ' ('}{'results_1': 'low'}{'results_1': ' <'}{'results_1': ' high'}{'results_1': ')'}{'results_1': ' {\\n'}{'results_1': '           '}{'results_1': ' //'}{'results_1': ' 找'}{'results_1': '到'}{'results_1': '分'}{'results_1': '区'}{'results_1': '点'}{'results_1': '\\n'}{'results_1': '           '}{'results_2': '排序'}{'results_2': '的'}{'results_2': ' Python'}{'results_2': ' 源'}{'results_2': '码'}{'results_2': '示'}{'results_2': '例'}{'results_2': '：\\n\\n'}{'results_2': '```'}{'results_2': 'python'}{'results_2': '\\n'}{'results_2': 'def'}{'results_2': ' quick'}{'results_2': '_sort'}{'results_2': '(arr'}{'results_2': '):\\n'}{'results_2': '   '}{'results_2': ' #'}{'results_2': ' 基'}{'results_2': '线'}{'results_2': '条件'}{'results_1': ' int'}{'results_2': '：'}{'results_1': ' pivot'}{'results_2': '如果'}{'results_2': '数组'}{'results_2': '长度'}{'results_2': '小'}{'results_2': '于'}{'results_2': '等'}{'results_2': '于'}{'results_2': '1'}{'results_2': '，则'}{'results_2': '直接'}{'results_1': 'Index'}{'results_1': ' ='}{'results_1': ' partition'}{'results_1': '(array'}{'results_2': '返回'}{'results_2': '该'}{'results_2': '数组'}{'results_2': '\\n'}{'results_2': '   '}{'results_2': ' if'}{'results_2': ' len'}{'results_2': '(arr'}{'results_2': ')'}{'results_2': ' <='}{'results_2': ' '}{'results_2': '1'}{'results_2': ':\\n'}{'results_2': '       '}{'results_2': ' return'}{'results_2': ' arr'}{'results_2': '\\n'}{'results_2': '   '}{'results_2': ' else'}{'results_2': ':\\n'}{'results_2': '       '}{'results_2': ' #'}{'results_2': ' '}{'results_2': '选择'}{'results_2': '基'}{'results_2': '准'}{'results_2': '（'}{'results_2': 'pivot'}{'results_2': '），'}{'results_2': '这里'}{'results_2': '选择'}{'results_2': '数组'}{'results_2': '的'}{'results_2': '最后'}{'results_2': '一个'}{'results_2': '元素'}{'results_2': '\\n'}{'results_2': '       '}{'results_2': ' pivot'}{'results_2': ' ='}{'results_2': ' arr'}{'results_2': '[-'}{'results_2': '1'}{'results_2': ']\\n'}{'results_2': '       '}{'results_2': ' #'}{'results_2': ' 分'}{'results_2': '区'}{'results_2': '：'}{'results_2': '将'}{'results_2': '小'}{'results_2': '于'}{'results_2': '基'}{'results_2': '准'}{'results_2': '的'}{'results_2': '元素'}{'results_2': '放'}{'results_2': '到'}{'results_2': '左'}{'results_2': '边'}{'results_1': ','}{'results_1': ' low'}{'results_1': ','}{'results_1': ' high'}{'results_1': ');\\n'}{'results_1': '           '}{'results_1': ' //'}{'results_1': ' 对'}{'results_1': '分'}{'results_1': '区'}{'results_1': '点'}{'results_1': '左'}{'results_1': '侧'}{'results_1': '进行'}{'results_1': '快速'}{'results_1': '排序'}{'results_1': '\\n'}{'results_1': '           '}{'results_1': ' quick'}{'results_1': 'Sort'}{'results_1': '(array'}{'results_1': ','}{'results_1': ' low'}{'results_1': ','}{'results_1': ' pivot'}{'results_1': 'Index'}{'results_1': ' -'}{'results_1': ' '}{'results_1': '1'}{'results_1': ');\\n'}{'results_1': '           '}{'results_1': ' //'}{'results_1': ' 对'}{'results_1': '分'}{'results_1': '区'}{'results_1': '点'}{'results_1': '右'}{'results_1': '侧'}{'results_1': '进行'}{'results_1': '快速'}{'results_1': '排序'}{'results_1': '\\n'}{'results_1': '           '}{'results_1': ' quick'}{'results_1': 'Sort'}{'results_1': '(array'}{'results_1': ','}{'results_1': ' pivot'}{'results_1': 'Index'}{'results_1': ' +'}{'results_1': ' '}{'results_1': '1'}{'results_1': ','}{'results_1': ' high'}{'results_2': '，大'}{'results_2': '于'}{'results_2': '基'}{'results_2': '准'}{'results_2': '的'}{'results_2': '元素'}{'results_1': ');\\n'}{'results_2': '放'}{'results_1': '       '}{'results_2': '到'}{'results_2': '右'}{'results_2': '边'}{'results_2': '\\n'}{'results_2': '       '}{'results_2': ' left'}{'results_2': ' ='}{'results_2': ' ['}{'results_2': 'x'}{'results_2': ' for'}{'results_2': ' x'}{'results_2': ' in'}{'results_2': ' arr'}{'results_2': '[:-'}{'results_2': '1'}{'results_2': ']'}{'results_2': ' if'}{'results_2': ' x'}{'results_2': ' <='}{'results_2': ' pivot'}{'results_1': ' }\\n'}{'results_2': ']\\n'}{'results_1': '   '}{'results_2': '       '}{'results_2': ' right'}{'results_2': ' ='}{'results_2': ' ['}{'results_2': 'x'}{'results_2': ' for'}{'results_2': ' x'}{'results_2': ' in'}{'results_2': ' arr'}{'results_2': '[:-'}{'results_1': ' }\\n\\n'}{'results_1': '   '}{'results_1': ' private'}{'results_1': ' static'}{'results_1': ' int'}{'results_1': ' partition'}{'results_1': '(int'}{'results_1': '[]'}{'results_1': ' array'}{'results_1': ','}{'results_1': ' int'}{'results_1': ' low'}{'results_1': ','}{'results_2': '1'}{'results_1': ' int'}{'results_1': ' high'}{'results_2': ']'}{'results_1': ')'}{'results_2': ' if'}{'results_2': ' x'}{'results_1': ' {\\n'}{'results_2': ' >'}{'results_1': '       '}{'results_2': ' pivot'}{'results_2': ']\\n'}{'results_2': '        \\n'}{'results_2': '       '}{'results_2': ' #'}{'results_2': ' '}{'results_2': '递'}{'results_2': '归'}{'results_2': '调用'}{'results_2': '快速'}{'results_2': '排序'}{'results_1': ' //'}{'results_1': ' '}{'results_2': '，并'}{'results_2': '合'}{'results_2': '并'}{'results_2': '结果'}{'results_1': '选择'}{'results_1': '最后'}{'results_2': '\\n'}{'results_2': '       '}{'results_2': ' return'}{'results_2': ' quick'}{'results_2': '_sort'}{'results_2': '(left'}{'results_2': ')'}{'results_2': ' +'}{'results_2': ' ['}{'results_1': '一个'}{'results_2': 'pivot'}{'results_1': '元素'}{'results_2': ']'}{'results_2': ' +'}{'results_2': ' quick'}{'results_2': '_sort'}{'results_1': '作为'}{'results_1': '基'}{'results_1': '准'}{'results_1': '（'}{'results_1': 'pivot'}{'results_1': '）\\n'}{'results_1': '       '}{'results_2': '(right'}{'results_1': ' int'}{'results_2': ')\\n\\n'}{'results_2': '#'}{'results_2': ' 示例'}{'results_2': '用'}{'results_2': '法'}{'results_2': '\\n'}{'results_2': 'if'}{'results_2': ' __'}{'results_2': 'name'}{'results_2': '__'}{'results_2': ' =='}{'results_2': ' \"__'}{'results_2': 'main'}{'results_2': '__\":\\n'}{'results_2': '   '}{'results_2': ' arr'}{'results_2': ' ='}{'results_2': ' ['}{'results_2': '3'}{'results_2': ','}{'results_2': ' '}{'results_2': '6'}{'results_2': ','}{'results_2': ' '}{'results_2': '8'}{'results_2': ','}{'results_2': ' '}{'results_2': '10'}{'results_2': ','}{'results_1': ' pivot'}{'results_1': ' ='}{'results_1': ' array'}{'results_1': '['}{'results_1': 'high'}{'results_1': '];\\n'}{'results_1': '       '}{'results_1': ' int'}{'results_2': ' '}{'results_2': '1'}{'results_2': ','}{'results_2': ' '}{'results_2': '2'}{'results_2': ','}{'results_2': ' '}{'results_2': '1'}{'results_2': ']\\n'}{'results_2': '   '}{'results_2': ' sorted'}{'results_2': '_arr'}{'results_2': ' ='}{'results_2': ' quick'}{'results_2': '_sort'}{'results_2': '(arr'}{'results_2': ')\\n'}{'results_2': '   '}{'results_2': ' print'}{'results_2': '(\"'}{'results_2': '排序'}{'results_2': '后的'}{'results_2': '数组'}{'results_2': ':\",'}{'results_2': ' sorted'}{'results_2': '_arr'}{'results_2': ')\\n'}{'results_2': '``'}{'results_2': '`\\n\\n'}{'results_2': '###'}{'results_2': ' '}{'results_2': '代码'}{'results_2': '说明'}{'results_2': '：\\n'}{'results_2': '1'}{'results_2': '.'}{'results_2': ' **'}{'results_2': '基'}{'results_2': '线'}{'results_2': '条件'}{'results_2': '**'}{'results_2': '：'}{'results_2': '如果'}{'results_2': '数组'}{'results_2': '的'}{'results_2': '长度'}{'results_2': '小'}{'results_2': '于'}{'results_2': '或'}{'results_2': '等'}{'results_2': '于'}{'results_2': ' '}{'results_2': '1'}{'results_2': '，'}{'results_2': '直接'}{'results_2': '返回'}{'results_2': '该'}{'results_2': '数组'}{'results_2': '，因为'}{'results_2': '它'}{'results_2': '已经'}{'results_2': '是'}{'results_2': '有'}{'results_2': '序'}{'results_2': '的'}{'results_2': '。\\n'}{'results_2': '2'}{'results_2': '.'}{'results_2': ' **'}{'results_2': '选择'}{'results_2': '基'}{'results_2': '准'}{'results_2': '**'}{'results_2': '：'}{'results_2': '选择'}{'results_2': '数组'}{'results_2': '的'}{'results_2': '最后'}{'results_2': '一个'}{'results_2': '元素'}{'results_2': '作为'}{'results_2': '基'}{'results_2': '准'}{'results_2': '。\\n'}{'results_2': '3'}{'results_2': '.'}{'results_2': ' **'}{'results_2': '分'}{'results_2': '区'}{'results_2': '**'}{'results_2': '：'}{'results_2': '使用'}{'results_2': '列表'}{'results_2': '推'}{'results_2': '导'}{'results_2': '式'}{'results_2': '将'}{'results_2': '数组'}{'results_2': '分'}{'results_2': '成'}{'results_2': '左右'}{'results_1': ' i'}{'results_1': ' ='}{'results_2': '两个'}{'results_1': ' low'}{'results_2': '部分'}{'results_1': ' -'}{'results_1': ' '}{'results_2': '，'}{'results_1': '1'}{'results_2': '左'}{'results_1': ';'}{'results_1': ' //'}{'results_1': ' 小'}{'results_1': '于'}{'results_1': '基'}{'results_1': '准'}{'results_1': '值'}{'results_1': '的'}{'results_1': '元素'}{'results_1': '索'}{'results_1': '引'}{'results_1': '\\n\\n'}{'results_1': '       '}{'results_1': ' for'}{'results_1': ' ('}{'results_1': 'int'}{'results_1': ' j'}{'results_1': ' ='}{'results_1': ' low'}{'results_1': ';'}{'results_2': '边'}{'results_2': '是'}{'results_1': ' j'}{'results_2': '小'}{'results_1': ' <'}{'results_2': '于'}{'results_1': ' high'}{'results_1': ';'}{'results_2': '或'}{'results_2': '等'}{'results_2': '于'}{'results_2': '基'}{'results_1': ' j'}{'results_1': '++)'}{'results_2': '准'}{'results_2': '的'}{'results_1': ' {\\n'}{'results_2': '元素'}{'results_1': '           '}{'results_2': '，'}{'results_2': '右'}{'results_2': '边'}{'results_1': ' //'}{'results_2': '是'}{'results_1': ' 如果'}{'results_2': '大'}{'results_2': '于'}{'results_2': '基'}{'results_1': '当前'}{'results_2': '准'}{'results_1': '元素'}{'results_2': '的'}{'results_2': '元素'}{'results_2': '。\\n'}{'results_2': '4'}{'results_2': '.'}{'results_2': ' **'}{'results_2': '递'}{'results_2': '归'}{'results_2': '排序'}{'results_2': '**'}{'results_1': '小'}{'results_1': '于'}{'results_2': '：'}{'results_2': '对'}{'results_2': '左'}{'results_2': '边'}{'results_1': '或'}{'results_1': '等'}{'results_1': '于'}{'results_1': '基'}{'results_1': '准'}{'results_1': '值'}{'results_1': '\\n'}{'results_1': '           '}{'results_1': ' if'}{'results_1': ' ('}{'results_1': 'array'}{'results_1': '[j'}{'results_1': ']'}{'results_1': ' <='}{'results_1': ' pivot'}{'results_1': ')'}{'results_1': ' {\\n'}{'results_1': '               '}{'results_1': ' i'}{'results_1': '++;\\n'}{'results_1': '               '}{'results_1': ' //'}{'results_1': ' '}{'results_1': '交换'}{'results_1': 'array'}{'results_1': '[i'}{'results_1': ']'}{'results_1': '和'}{'results_2': '和'}{'results_2': '右'}{'results_2': '边'}{'results_2': '的'}{'results_2': '子'}{'results_2': '数组'}{'results_2': '递'}{'results_2': '归'}{'results_2': '调用'}{'results_2': ' `'}{'results_2': 'quick'}{'results_2': '_sort'}{'results_2': '`'}{'results_2': ' 函'}{'results_2': '数'}{'results_2': '，并'}{'results_2': '将'}{'results_2': '结果'}{'results_2': '合'}{'results_2': '并'}{'results_2': '成'}{'results_2': '一个'}{'results_2': '有'}{'results_2': '序'}{'results_2': '数组'}{'results_2': '。\\n\\n'}{'results_1': 'array'}{'results_1': '[j'}{'results_2': '###'}{'results_2': ' 示例'}{'results_2': '输出'}{'results_2': '：\\n'}{'results_2': '运行'}{'results_2': '上述'}{'results_2': '代码'}{'results_2': '将'}{'results_2': '输出'}{'results_2': '：\\n'}{'results_2': '``'}{'results_2': '`\\n'}{'results_2': '排序'}{'results_2': '后的'}{'results_2': '数组'}{'results_2': ':'}{'results_2': ' ['}{'results_2': '1'}{'results_2': ','}{'results_2': ' '}{'results_2': '1'}{'results_2': ','}{'results_2': ' '}{'results_2': '2'}{'results_2': ','}{'results_2': ' '}{'results_2': '3'}{'results_1': ']\\n'}{'results_2': ','}{'results_1': '               '}{'results_2': ' '}{'results_2': '6'}{'results_2': ','}{'results_2': ' '}{'results_2': '8'}{'results_2': ','}{'results_2': ' '}{'results_2': '10'}{'results_2': ']\\n'}{'results_2': '``'}{'results_1': ' swap'}{'results_1': '(array'}{'results_1': ','}{'results_1': ' i'}{'results_1': ','}{'results_1': ' j'}{'results_1': ');\\n'}{'results_1': '           '}{'results_1': ' }\\n'}{'results_1': '       '}{'results_1': ' }\\n'}{'results_1': '       '}{'results_1': ' //'}{'results_1': ' '}{'results_1': '交换'}{'results_1': '基'}{'results_1': '准'}{'results_1': '值'}{'results_1': '与'}{'results_1': 'i'}{'results_1': '+'}{'results_1': '1'}{'results_1': '位置'}{'results_1': '的'}{'results_2': '`\\n\\n'}{'results_2': '你'}{'results_2': '可以'}{'results_2': '根据'}{'results_2': '需要'}{'results_2': '修改'}{'results_2': '输入'}{'results_2': '数组'}{'results_2': '来'}{'results_2': '测试'}{'results_2': '不同'}{'results_2': '的'}{'results_2': '情况'}{'results_2': '。'}{'results_2': ''}{'results_1': '元素'}{'results_1': '\\n'}{'results_1': '       '}{'results_1': ' swap'}{'results_1': '(array'}{'results_1': ','}{'results_1': ' i'}{'results_1': ' +'}{'results_1': ' '}{'results_1': '1'}{'results_1': ','}{'results_1': ' high'}{'results_1': ');\\n'}{'results_1': '       '}{'results_1': ' return'}{'results_1': ' i'}{'results_1': ' +'}{'results_1': ' '}{'results_1': '1'}{'results_1': ';'}{'results_1': ' //'}{'results_1': ' 返回'}{'results_1': '基'}{'results_1': '准'}{'results_1': '值'}{'results_1': '的'}{'results_1': '索'}{'results_1': '引'}{'results_1': '\\n'}{'results_1': '   '}{'results_1': ' }\\n\\n'}{'results_1': '   '}{'results_1': ' private'}{'results_1': ' static'}{'results_1': ' void'}{'results_1': ' swap'}{'results_1': '(int'}{'results_1': '[]'}{'results_1': ' array'}{'results_1': ','}{'results_1': ' int'}{'results_1': ' i'}{'results_1': ','}{'results_1': ' int'}{'results_1': ' j'}{'results_1': ')'}{'results_1': ' {\\n'}{'results_1': '       '}{'results_1': ' int'}{'results_1': ' temp'}{'results_1': ' ='}{'results_1': ' array'}{'results_1': '[i'}{'results_1': '];\\n'}{'results_1': '       '}{'results_1': ' array'}{'results_1': '[i'}{'results_1': ']'}{'results_1': ' ='}{'results_1': ' array'}{'results_1': '[j'}{'results_1': '];\\n'}{'results_1': '       '}{'results_1': ' array'}{'results_1': '[j'}{'results_1': ']'}{'results_1': ' ='}{'results_1': ' temp'}{'results_1': ';\\n'}{'results_1': '   '}{'results_1': ' }\\n\\n'}{'results_1': '   '}{'results_1': ' public'}{'results_1': ' static'}{'results_1': ' void'}{'results_1': ' main'}{'results_1': '(String'}{'results_1': '[]'}{'results_1': ' args'}{'results_1': ')'}{'results_1': ' {\\n'}{'results_1': '       '}{'results_1': ' int'}{'results_1': '[]'}{'results_1': ' array'}{'results_1': ' ='}{'results_1': ' {'}{'results_1': '10'}{'results_1': ','}{'results_1': ' '}{'results_1': '7'}{'results_1': ','}{'results_1': ' '}{'results_1': '8'}{'results_1': ','}{'results_1': ' '}{'results_1': '9'}{'results_1': ','}{'results_1': ' '}{'results_1': '1'}{'results_1': ','}{'results_1': ' '}{'results_1': '5'}{'results_1': '};\\n'}{'results_1': '       '}{'results_1': ' System'}{'results_1': '.out'}{'results_1': '.println'}{'results_1': '(\"'}{'results_1': '原'}{'results_1': '始'}{'results_1': '数组'}{'results_1': '：'}{'results_1': '\");\\n'}{'results_1': '       '}{'results_1': ' print'}{'results_1': 'Array'}{'results_1': '(array'}{'results_1': ');\\n'}{'results_1': '        \\n'}{'results_1': '       '}{'results_1': ' quick'}{'results_1': 'Sort'}{'results_1': '(array'}{'results_1': ','}{'results_1': ' '}{'results_1': '0'}{'results_1': ','}{'results_1': ' array'}{'results_1': '.length'}{'results_1': ' -'}{'results_1': ' '}{'results_1': '1'}{'results_1': ');\\n'}{'results_1': '        \\n'}{'results_1': '       '}{'results_1': ' System'}{'results_1': '.out'}{'results_1': '.println'}{'results_1': '(\"'}{'results_1': '排序'}{'results_1': '后'}{'results_1': '数组'}{'results_1': '：'}{'results_1': '\");\\n'}{'results_1': '       '}{'results_1': ' print'}{'results_1': 'Array'}{'results_1': '(array'}{'results_1': ');\\n'}{'results_1': '   '}{'results_1': ' }\\n\\n'}{'results_1': '   '}{'results_1': ' private'}{'results_1': ' static'}{'results_1': ' void'}{'results_1': ' print'}{'results_1': 'Array'}{'results_1': '(int'}{'results_1': '[]'}{'results_1': ' array'}{'results_1': ')'}{'results_1': ' {\\n'}{'results_1': '       '}{'results_1': ' for'}{'results_1': ' ('}{'results_1': 'int'}{'results_1': ' num'}{'results_1': ' :'}{'results_1': ' array'}{'results_1': ')'}{'results_1': ' {\\n'}{'results_1': '           '}{'results_1': ' System'}{'results_1': '.out'}{'results_1': '.print'}{'results_1': '(num'}{'results_1': ' +'}{'results_1': ' \"'}{'results_1': ' \");\\n'}{'results_1': '       '}{'results_1': ' }\\n'}{'results_1': '       '}{'results_1': ' System'}{'results_1': '.out'}{'results_1': '.println'}{'results_1': '();\\n'}{'results_1': '   '}{'results_1': ' }\\n'}{'results_1': '}\\n'}{'results_1': '``'}{'results_1': '`\\n\\n'}{'results_1': '###'}{'results_1': ' '}{'results_1': '代码'}{'results_1': '说明'}{'results_1': '：\\n\\n'}{'results_1': '1'}{'results_1': '.'}{'results_1': ' **'}{'results_1': 'quick'}{'results_1': 'Sort'}{'results_1': '方法'}{'results_1': '**'}{'results_1': '：'}{'results_1': '这是'}{'results_1': '快速'}{'results_1': '排序'}{'results_1': '的'}{'results_1': '主'}{'results_1': '方法'}{'results_1': '，'}{'results_1': '递'}{'results_1': '归'}{'results_1': '地'}{'results_1': '对'}{'results_1': '数组'}{'results_1': '进行'}{'results_1': '排序'}{'results_1': '。'}{'results_1': '它'}{'results_1': '接受'}{'results_1': '数组'}{'results_1': '、'}{'results_1': '低'}{'results_1': '索'}{'results_1': '引'}{'results_1': '和'}{'results_1': '高'}{'results_1': '索'}{'results_1': '引'}{'results_1': '作为'}{'results_1': '参数'}{'results_1': '。\\n\\n'}{'results_1': '2'}{'results_1': '.'}{'results_1': ' **'}{'results_1': 'partition'}{'results_1': '方法'}{'results_1': '**'}{'results_1': '：'}{'results_1': '用于'}{'results_1': '将'}{'results_1': '数组'}{'results_1': '分'}{'results_1': '成'}{'results_1': '两个'}{'results_1': '部分'}{'results_1': '，并'}{'results_1': '返回'}{'results_1': '基'}{'results_1': '准'}{'results_1': '值'}{'results_1': '的'}{'results_1': '索'}{'results_1': '引'}{'results_1': '。'}{'results_1': '它'}{'results_1': '选择'}{'results_1': '数组'}{'results_1': '的'}{'results_1': '最后'}{'results_1': '一个'}{'results_1': '元素'}{'results_1': '作为'}{'results_1': '基'}{'results_1': '准'}{'results_1': '，然后'}{'results_1': '重新'}{'results_1': '排列'}{'results_1': '数组'}{'results_1': '，使'}{'results_1': '得'}{'results_1': '所有'}{'results_1': '小'}{'results_1': '于'}{'results_1': '基'}{'results_1': '准'}{'results_1': '值'}{'results_1': '的'}{'results_1': '元素'}{'results_1': '都'}{'results_1': '在'}{'results_1': '左'}{'results_1': '侧'}{'results_1': '，'}{'results_1': '所有'}{'results_1': '大'}{'results_1': '于'}{'results_1': '基'}{'results_1': '准'}{'results_1': '值'}{'results_1': '的'}{'results_1': '元素'}{'results_1': '都'}{'results_1': '在'}{'results_1': '右'}{'results_1': '侧'}{'results_1': '。\\n\\n'}{'results_1': '3'}{'results_1': '.'}{'results_1': ' **'}{'results_1': 'swap'}{'results_1': '方法'}{'results_1': '**'}{'results_1': '：'}{'results_1': '用于'}{'results_1': '交换'}{'results_1': '数组'}{'results_1': '中'}{'results_1': '两个'}{'results_1': '元素'}{'results_1': '的位置'}{'results_1': '。\\n\\n'}{'results_1': '4'}{'results_1': '.'}{'results_1': ' **'}{'results_1': 'main'}{'results_1': '方法'}{'results_1': '**'}{'results_1': '：'}{'results_1': '测试'}{'results_1': '快速'}{'results_1': '排序'}{'results_1': '算法'}{'results_1': '，'}{'results_1': '定义'}{'results_1': '了'}{'results_1': '一个'}{'results_1': '整数'}{'results_1': '数组'}{'results_1': '，'}{'results_1': '调用'}{'results_1': '快速'}{'results_1': '排序'}{'results_1': '，并'}{'results_1': '输出'}{'results_1': '排序'}{'results_1': '前'}{'results_1': '后的'}{'results_1': '数组'}{'results_1': '。\\n\\n'}{'results_1': '你'}{'results_1': '可以'}{'results_1': '复制'}{'results_1': '上'}{'results_1': '面的'}{'results_1': '代码'}{'results_1': '到'}{'results_1': '你的'}{'results_1': 'Java'}{'results_1': '开发'}{'results_1': '环境'}{'results_1': '中'}{'results_1': '运行'}{'results_1': '，以'}{'results_1': '查看'}{'results_1': '快速'}{'results_1': '排序'}{'results_1': '的'}{'results_1': '效果'}{'results_1': '。'}{'results_1': ''}"
     ]
    }
   ],
   "source": [
    "## chain 最终输出经过了 StrOutputParser 处理，所以可以直接输出流式输出 s\n",
    "for s in chain.stream({\"input\": \"快速排序\"}):\n",
    "    print(s, end=\"\", flush=True)"
   ]
  },
  {
   "cell_type": "code",
   "execution_count": null,
   "id": "f5ace837-8c01-4661-832e-d0b7ec4e20c6",
   "metadata": {},
   "outputs": [],
   "source": []
  },
  {
   "cell_type": "markdown",
   "id": "157236cc-1acd-4c2a-ade8-509d252f9941",
   "metadata": {},
   "source": [
    "### Homework: 实现一个多链版本的代码生成，输入功能需求，输出2种（Python，Java）以上编程语言的代码实现。"
   ]
  },
  {
   "cell_type": "code",
   "execution_count": null,
   "id": "8b540134-3e4c-409d-b801-f861bfa184c0",
   "metadata": {},
   "outputs": [],
   "source": []
  }
 ],
 "metadata": {
  "kernelspec": {
   "display_name": "Python 3 (ipykernel)",
   "language": "python",
   "name": "python3"
  },
  "language_info": {
   "codemirror_mode": {
    "name": "ipython",
    "version": 3
   },
   "file_extension": ".py",
   "mimetype": "text/x-python",
   "name": "python",
   "nbconvert_exporter": "python",
   "pygments_lexer": "ipython3",
   "version": "3.11.9"
  }
 },
 "nbformat": 4,
 "nbformat_minor": 5
}
